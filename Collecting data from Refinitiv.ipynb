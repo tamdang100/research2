{
 "cells": [
  {
   "cell_type": "code",
   "execution_count": 1,
   "metadata": {},
   "outputs": [],
   "source": [
    "import eikon as ek\n",
    "import pandas as pd"
   ]
  },
  {
   "cell_type": "code",
   "execution_count": 3,
   "metadata": {},
   "outputs": [],
   "source": [
    "ek.set_app_key('7df64f895*****0b559') # This key is confidential"
   ]
  },
  {
   "cell_type": "code",
   "execution_count": 4,
   "metadata": {},
   "outputs": [],
   "source": [
    "import pandas as pd\n",
    "import numpy as np\n",
    "import datetime\n",
    "import time\n",
    "import openpyxl\n",
    "import pandas\n",
    "from openpyxl import load_workbook\n",
    "from datetime import timedelta, date, datetime\n",
    "from pandas.tseries.offsets import BDay"
   ]
  },
  {
   "cell_type": "code",
   "execution_count": 5,
   "metadata": {},
   "outputs": [],
   "source": [
    "# List of firms (ISIN)\n",
    "rest_isin = ['US7565681019', 'US68247Q1022', 'US81807M2052', 'US90138A8892', 'US88429K1034', 'US88579N1054', 'US88564C1062', 'US35085K1097', 'US3168271043', 'US16954L2043', 'US65442R2085']\n"
   ]
  },
  {
   "cell_type": "code",
   "execution_count": 9,
   "metadata": {},
   "outputs": [],
   "source": [
    "# Split them into a group of 'isin_per_call' into array_isin_list\n",
    "\n",
    "isin_per_call = 100       # 500 firms per API call\n",
    "\n",
    "array_isin_list = []\n",
    "i = 0\n",
    "while i < len(rest_isin)/isin_per_call:\n",
    "    array_isin_list.append(rest_isin[i*isin_per_call:(i+1)*isin_per_call])\n",
    "    i += 1\n"
   ]
  },
  {
   "cell_type": "code",
   "execution_count": null,
   "metadata": {},
   "outputs": [],
   "source": [
    "fields = [\"TR.CommonName\",\"TR.HeadquartersCountry\", \"TR.Revenue.calcdate\", \"TR.Revenue\", \"TR.TotalRevenue\", \n",
    "          \"TR.COGSActValue\", \"TR.TotalOperatingExpense\", \"TR.DepreciationAmort\", \"TR.NetIncomeBeforeExtraItems\", \n",
    "          \"TR.NetIncomeAfterTaxes\", \"TR.NetProfitMean\", \"TR.TotalAssetsReported\", \"TR.LTDebt\", \"TR.BVPSTotalEquity\", \n",
    "          \"TR.IPODate\", \"TR.PriceToBVPerShare\", \"TR.ResearchAndDevelopment\", \"TR.AdvertisingExpense\", \"TR.ROATotalAssetsPercent\", \n",
    "          \"TR.TotalDebtOutstanding\", \"TR.CashFlowfromOperationsMean\", \"TR.EBIT\", \"TR.NetSales\", \"TR.AnalyticIndepBoard\", \n",
    "          \"TR.AnalyticCEOChairmanSeparation\", \"TR.SIInstitutionalOwn\", \"TR.TotalEquity\", \"TR.TotalLiabilities\"]\n",
    "\n",
    "\n",
    "start_date = str(19900101)\n",
    "end_date = str(20231231)\n",
    "params= {\"SDate\":start_date, \"EDate\":end_date, 'FRQ':'Y'}   \n",
    "\n",
    "\n",
    "\n",
    "# loop API call between groups of ISIN\n",
    "\n",
    "for isincodes in array_isin_list:\n",
    "    print(\"API calls for: \",isincodes)\n",
    "    \n",
    "    data, err = ek.get_data(isincodes, fields, params)\n",
    "\n",
    "    data2 = pd.DataFrame(data)\n",
    "\n",
    "    todays_date_str = datetime.now().strftime('%H-%M-%S_%d%m%Y')\n",
    "\n",
    "    data2.to_excel('list_' + todays_date_str + '.xlsx', index=False)\n",
    "\n",
    "    time.sleep(5)\n",
    "print('Done')\n",
    "\n"
   ]
  }
 ],
 "metadata": {
  "kernelspec": {
   "display_name": "Python 3.10.8 64-bit",
   "language": "python",
   "name": "python3"
  },
  "language_info": {
   "codemirror_mode": {
    "name": "ipython",
    "version": 3
   },
   "file_extension": ".py",
   "mimetype": "text/x-python",
   "name": "python",
   "nbconvert_exporter": "python",
   "pygments_lexer": "ipython3",
   "version": "3.10.8"
  },
  "orig_nbformat": 4,
  "vscode": {
   "interpreter": {
    "hash": "a42ccb73e7d9bfdf27e036f1d2b8b681e55fc0743cc5586bc2474d4a60f4b886"
   }
  }
 },
 "nbformat": 4,
 "nbformat_minor": 2
}
